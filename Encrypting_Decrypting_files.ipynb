{
  "nbformat": 4,
  "nbformat_minor": 0,
  "metadata": {
    "colab": {
      "name": "Encrypting_Decrypting files.ipynb",
      "provenance": [],
      "collapsed_sections": [],
      "authorship_tag": "ABX9TyMGx7pJnhNlxkoGF9IVmNeI",
      "include_colab_link": true
    },
    "kernelspec": {
      "name": "python3",
      "display_name": "Python 3"
    },
    "language_info": {
      "name": "python"
    }
  },
  "cells": [
    {
      "cell_type": "markdown",
      "metadata": {
        "id": "view-in-github",
        "colab_type": "text"
      },
      "source": [
        "<a href=\"https://colab.research.google.com/github/Loulou-lepou/LouBeginningPython/blob/master/Encrypting_Decrypting_files.ipynb\" target=\"_parent\"><img src=\"https://colab.research.google.com/assets/colab-badge.svg\" alt=\"Open In Colab\"/></a>"
      ]
    },
    {
      "cell_type": "markdown",
      "source": [
        "# URL Encoding\n",
        " \n"
      ],
      "metadata": {
        "id": "eyMlBaUe4w9l"
      }
    },
    {
      "cell_type": "markdown",
      "source": [
        "URL = Uniform Resource Locator \n",
        "\n",
        " **https<font color='red'>:</font><font color='blue'>//</font>hyperskill.org<br>**\n",
        "<br>\n",
        "URL encoding => [replaces special characters (non-ASCII) with their encoded alternatives. ](https://www.thoughtco.com/encoding-urls-3467463)\n",
        "\n",
        "[<font color='MediumSeaGreen'>special character $↦$  % + 2 hexadecimal digits</font> ](https://www.w3schools.com/tags/ref_urlencode.asp)\n",
        "<br>\n",
        "<font color='red'>:</font>   separate protocol from address $↦$ <font color='red'>%3A</font> <br>\n",
        "<font color='blue'>/</font>   separate domain or directories $↦$ <font color='blue'>%2F</font>\n",
        "<br>\n",
        "<br>\n",
        " *(ASCII characters)*\n",
        "ASCII = \"American Standard Code for Information Interchange\"\n",
        "<br>\n",
        "<br>\n",
        "\n",
        " **https<font color='red'>%3A</font><font color='blue'>%2F</font><font color='blue'>%2F</font>hyperskill.org**\n",
        "<br>\n",
        "<br>\n",
        "\n",
        " URL encoding in Python using urllib.parse.quote_plus()\n"
      ],
      "metadata": {
        "id": "fOq9go4pXl6Q"
      }
    },
    {
      "cell_type": "code",
      "source": [
        "import urllib\n",
        "\n",
        "\n",
        "url_ = \"https://www.pythontect.com/about/?name=ismail&pass=123\"\n",
        "\n",
        "encoded_url = urllib.parse.quote_plus(url_)\n",
        "\n",
        "print(encoded_url)\n"
      ],
      "metadata": {
        "colab": {
          "base_uri": "https://localhost:8080/"
        },
        "id": "7MmI-aHm-G4n",
        "outputId": "e71987a1-a652-4f50-fc92-4b083e737b7b"
      },
      "execution_count": null,
      "outputs": [
        {
          "output_type": "stream",
          "name": "stdout",
          "text": [
            "https%3A%2F%2Fwww.pythontect.com%2Fabout%2F%3Fname%3Dismail%26pass%3D123\n"
          ]
        }
      ]
    },
    {
      "cell_type": "code",
      "source": [
        "import urllib\n",
        "\n",
        "\n",
        "my_url = \"https://www.pythontect.com/about/?name=ismail baydan&pass=123\"\n",
        "\n",
        "encoded_url = urllib.parse.quote_plus(my_url,safe=\" \")\n",
        "\n",
        "print(encoded_url)"
      ],
      "metadata": {
        "colab": {
          "base_uri": "https://localhost:8080/"
        },
        "id": "oRZLzW0U-_mA",
        "outputId": "aeec66ac-db9a-4ea9-eb4a-c5b1a40a4ea4"
      },
      "execution_count": null,
      "outputs": [
        {
          "output_type": "stream",
          "name": "stdout",
          "text": [
            "https%3A%2F%2Fwww.pythontect.com%2Fabout%2F%3Fname%3Dismail+baydan%26pass%3D123\n"
          ]
        }
      ]
    },
    {
      "cell_type": "markdown",
      "source": [
        "# Encoding & decoding base64 strings\n",
        "\n"
      ],
      "metadata": {
        "id": "m1yvfeZEFUsl"
      }
    },
    {
      "cell_type": "markdown",
      "source": [
        "## Text content\n",
        "Man\n",
        "## ASCII\n",
        "77, 97, 110\n",
        "## Bit pattern (3 bytes - 24 bit binary data)\n",
        "01001101,01100001,01101110\n",
        "\n",
        "## Index  (four 6 bit Base64 digits) \n",
        "(6 bits $↦$ maximum of 64 different binary values) \n",
        "19, 22, 5, 46\n",
        "\n",
        "## Base64 - encoded\n",
        "T,W,F,u\n",
        "\n",
        "\n"
      ],
      "metadata": {
        "id": "oRMayfENFfl2"
      }
    },
    {
      "cell_type": "code",
      "source": [
        "# find the ASCII value of the given character using the built-in function ord()\n",
        "\n",
        "char_ = 'M'\n",
        "print(\"The ASCII value of '\" + char_ + \"' is\", ord(char_))\n",
        "\n",
        "# get characters from their corresponding ASCII values using the built-in function chr()\n",
        "\n",
        "ascii_value = 97\n",
        "print(\"characters from the corresponding ASCII value\", ascii_value, \"is\", chr(ascii_value))\n",
        "\n",
        "# convert text content to ASCII \n",
        "# https://www.goodreads.com/quotes/7753665-desire-to-know-why-and-how-curiosity-such-as-is\n",
        "input_str = input()\n",
        "ascii_str = \",\".join([str(ord(_)) for _ in input_str])\n",
        "print(ascii_str)\n"
      ],
      "metadata": {
        "colab": {
          "base_uri": "https://localhost:8080/"
        },
        "id": "_iGldPfUFe0f",
        "outputId": "69eaac2a-f44b-4e50-c68e-400b2a568693"
      },
      "execution_count": null,
      "outputs": [
        {
          "output_type": "stream",
          "name": "stdout",
          "text": [
            "The ASCII value of 'M' is 77\n",
            "characters from the corresponding ASCII value 97 is a\n",
            "Man is distinguished, not only by his reason, but ...\n",
            "77,97,110,32,105,115,32,100,105,115,116,105,110,103,117,105,115,104,101,100,44,32,110,111,116,32,111,110,108,121,32,98,121,32,104,105,115,32,114,101,97,115,111,110,44,32,98,117,116,32,46,46,46\n"
          ]
        }
      ]
    },
    {
      "cell_type": "code",
      "source": [
        "# decimal to binary\n",
        "decimal_num = 97\n",
        "print(\"{0:b}\".format(decimal_num))\n",
        "print(format(decimal_num, '08b'))\n",
        "print(\"{:08b}\".format(decimal_num))\n",
        "\n",
        "# bit pattern of ascii_str\n",
        "bit_pattern_list = [\"{:08b}\".format(ord(_)) for _ in input_str]\n",
        "print(bit_pattern_list)\n",
        "print(\",\".join(bit_pattern_list))"
      ],
      "metadata": {
        "id": "ejvKw5tfdd0F",
        "colab": {
          "base_uri": "https://localhost:8080/"
        },
        "outputId": "38fedf6b-7dd6-4fa7-8643-0a20d550bec9"
      },
      "execution_count": null,
      "outputs": [
        {
          "output_type": "stream",
          "name": "stdout",
          "text": [
            "1100001\n",
            "01100001\n",
            "01100001\n",
            "['01001101', '01100001', '01101110', '00100000', '01101001', '01110011', '00100000', '01100100', '01101001', '01110011', '01110100', '01101001', '01101110', '01100111', '01110101', '01101001', '01110011', '01101000', '01100101', '01100100', '00101100', '00100000', '01101110', '01101111', '01110100', '00100000', '01101111', '01101110', '01101100', '01111001', '00100000', '01100010', '01111001', '00100000', '01101000', '01101001', '01110011', '00100000', '01110010', '01100101', '01100001', '01110011', '01101111', '01101110', '00101100', '00100000', '01100010', '01110101', '01110100', '00100000', '00101110', '00101110', '00101110']\n",
            "01001101,01100001,01101110,00100000,01101001,01110011,00100000,01100100,01101001,01110011,01110100,01101001,01101110,01100111,01110101,01101001,01110011,01101000,01100101,01100100,00101100,00100000,01101110,01101111,01110100,00100000,01101111,01101110,01101100,01111001,00100000,01100010,01111001,00100000,01101000,01101001,01110011,00100000,01110010,01100101,01100001,01110011,01101111,01101110,00101100,00100000,01100010,01110101,01110100,00100000,00101110,00101110,00101110\n"
          ]
        }
      ]
    },
    {
      "cell_type": "code",
      "source": [
        "# binary to decimal using int(str(binary_num), 2) function\n",
        "# TypeError: int() can't convert non-string with explicit base\n",
        "binary_num = 1100001\n",
        "decimal_ = int(str(binary_num), 2)\n",
        "print(decimal_)\n",
        "\n",
        "# index (four 6 bit Base64 digits)\n",
        "bit_pattern = \"\".join(bit_pattern_list)\n",
        "print(bit_pattern)\n",
        "\n",
        "binary_length = len(bit_pattern)\n",
        "index_list = [int(bit_pattern[_: _ + 6], 2) for _ in range(0, binary_length, 6)]\n",
        "print(index_list)\n"
      ],
      "metadata": {
        "colab": {
          "base_uri": "https://localhost:8080/"
        },
        "id": "ySROCrXsjP4X",
        "outputId": "e342ec5b-2232-442e-dd22-3861ba8d4eeb"
      },
      "execution_count": null,
      "outputs": [
        {
          "output_type": "stream",
          "name": "stdout",
          "text": [
            "97\n",
            "0100110101100001011011100010000001101001011100110010000001100100011010010111001101110100011010010110111001100111011101010110100101110011011010000110010101100100001011000010000001101110011011110111010000100000011011110110111001101100011110010010000001100010011110010010000001101000011010010111001100100000011100100110010101100001011100110110111101101110001011000010000001100010011101010111010000100000001011100010111000101110\n",
            "[19, 22, 5, 46, 8, 6, 37, 51, 8, 6, 17, 41, 28, 55, 17, 41, 27, 38, 29, 53, 26, 23, 13, 40, 25, 22, 16, 44, 8, 6, 57, 47, 29, 2, 1, 47, 27, 38, 49, 57, 8, 6, 9, 57, 8, 6, 33, 41, 28, 50, 1, 50, 25, 22, 5, 51, 27, 54, 56, 44, 8, 6, 9, 53, 29, 2, 0, 46, 11, 34, 14]\n"
          ]
        }
      ]
    },
    {
      "cell_type": "code",
      "source": [
        "# using the base64 table \n",
        "# https://en.wikipedia.org/wiki/Base64\n",
        "# 26 uppercase letters 'A' -> 'Z'\n",
        "# 26 lowercase letters 'a' -> 'z'\n",
        "# 10 numbers '0' -> '9'\n",
        "# + , / \n",
        "\n",
        "# Each Base64 character represents 6 bits of data. \n",
        "\n",
        "translate_dict = {\n",
        "    'A': 0, 'Q': 16, 'g': 32, 'w': 48,\n",
        "    'B': 1, 'R': 17, 'h': 33, 'x': 49,\n",
        "    'C': 2, 'S': 18, 'i': 34, 'y': 50,\n",
        "    'D': 3, 'T': 19, 'j': 35, 'z': 51,\n",
        "    'E': 4, 'U': 20, 'k': 36, '0': 52,\n",
        "    'F': 5, 'V': 21, 'l': 37, '1': 53,\n",
        "    'G': 6, 'W': 22, 'm': 38, '2': 54,\n",
        "    'H': 7, 'X': 23, 'n': 39, '3': 55,\n",
        "    'I': 8, 'Y': 24, 'o': 40, '4': 56,\n",
        "    'J': 9, 'Z': 25, 'p': 41, '5': 57,\n",
        "    'K': 10, 'a': 26, 'q': 42, '6': 58,\n",
        "    'L': 11, 'b': 27, 'r': 43, '7': 59,\n",
        "    'M': 12, 'c': 28, 's': 44, '8': 60,\n",
        "    'N': 13, 'd': 29, 't': 45, '9': 61,\n",
        "    'O': 14, 'e': 30, 'u': 46, '+': 62,\n",
        "    'P': 15, 'f': 31, 'v': 47, '/': 63\n",
        "}\n",
        "\n",
        "print([translate_dict[_] for _ in 'TWFu'])\n",
        "\n",
        "base64_encoded = []\n",
        "for num in index_list:\n",
        "    for key, value in translate_dict.items():\n",
        "        if num == value:\n",
        "            base64_encoded.append(key)\n",
        "print(base64_encoded)\n",
        "\n",
        "base64_encoded_2 = [key for num in index_list for key, value in translate_dict.items() if num == value]\n",
        "print(base64_encoded_2)"
      ],
      "metadata": {
        "colab": {
          "base_uri": "https://localhost:8080/"
        },
        "id": "TWcq1cu0oyOu",
        "outputId": "f67fa4ed-9591-43dd-8e23-67349f35434a"
      },
      "execution_count": null,
      "outputs": [
        {
          "output_type": "stream",
          "name": "stdout",
          "text": [
            "[19, 22, 5, 46]\n",
            "['T', 'W', 'F', 'u', 'I', 'G', 'l', 'z', 'I', 'G', 'R', 'p', 'c', '3', 'R', 'p', 'b', 'm', 'd', '1', 'a', 'X', 'N', 'o', 'Z', 'W', 'Q', 's', 'I', 'G', '5', 'v', 'd', 'C', 'B', 'v', 'b', 'm', 'x', '5', 'I', 'G', 'J', '5', 'I', 'G', 'h', 'p', 'c', 'y', 'B', 'y', 'Z', 'W', 'F', 'z', 'b', '2', '4', 's', 'I', 'G', 'J', '1', 'd', 'C', 'A', 'u', 'L', 'i', 'O']\n",
            "['T', 'W', 'F', 'u', 'I', 'G', 'l', 'z', 'I', 'G', 'R', 'p', 'c', '3', 'R', 'p', 'b', 'm', 'd', '1', 'a', 'X', 'N', 'o', 'Z', 'W', 'Q', 's', 'I', 'G', '5', 'v', 'd', 'C', 'B', 'v', 'b', 'm', 'x', '5', 'I', 'G', 'J', '5', 'I', 'G', 'h', 'p', 'c', 'y', 'B', 'y', 'Z', 'W', 'F', 'z', 'b', '2', '4', 's', 'I', 'G', 'J', '1', 'd', 'C', 'A', 'u', 'L', 'i', 'O']\n"
          ]
        }
      ]
    },
    {
      "cell_type": "code",
      "source": [
        "# base64 encoded\n",
        "\n",
        "import base64\n",
        "\n",
        "  \n",
        "sample_string = input()\n",
        "sample_string_bytes = sample_string.encode(\"ascii\")\n",
        "  \n",
        "base64_bytes = base64.b64encode(sample_string_bytes)\n",
        "base64_string = base64_bytes.decode(\"ascii\")\n",
        "  \n",
        "print(f\"Base64 Encoded string: {base64_string}\")"
      ],
      "metadata": {
        "id": "pgRpe2w0nilX",
        "colab": {
          "base_uri": "https://localhost:8080/"
        },
        "outputId": "8f4afc57-6c13-41d3-de6c-4777e20d8754"
      },
      "execution_count": null,
      "outputs": [
        {
          "output_type": "stream",
          "name": "stdout",
          "text": [
            "Man is distinguished, not only by his reason, but ...\n",
            "Base64 Encoded string: TWFuIGlzIGRpc3Rpbmd1aXNoZWQsIG5vdCBvbmx5IGJ5IGhpcyByZWFzb24sIGJ1dCAuLi4=\n"
          ]
        }
      ]
    },
    {
      "cell_type": "code",
      "source": [
        "# decode strings\n",
        "\n",
        "import base64\n",
        "  \n",
        "\n",
        "base64_string = input()\n",
        "base64_bytes = base64_string.encode(\"ascii\")\n",
        "  \n",
        "sample_string_bytes = base64.b64decode(base64_bytes)\n",
        "sample_string = sample_string_bytes.decode(\"ascii\")\n",
        "\n",
        "print(f\"Decoded string: {sample_string}\")\n",
        "  "
      ],
      "metadata": {
        "id": "wb_xeDND3USq",
        "colab": {
          "base_uri": "https://localhost:8080/"
        },
        "outputId": "fbc13c11-9add-4e90-c8e9-623c6995ed13"
      },
      "execution_count": null,
      "outputs": [
        {
          "output_type": "stream",
          "name": "stdout",
          "text": [
            "TWFuIGlzIGRpc3Rpbmd1aXNoZWQsIG5vdCBvbmx5IGJ5IGhpcyByZWFzb24sIGJ1dCAuLi4=\n",
            "Decoded string: Man is distinguished, not only by his reason, but ...\n"
          ]
        }
      ]
    },
    {
      "cell_type": "markdown",
      "source": [
        ""
      ],
      "metadata": {
        "id": "Zn0wxfhKT2GP"
      }
    }
  ]
}