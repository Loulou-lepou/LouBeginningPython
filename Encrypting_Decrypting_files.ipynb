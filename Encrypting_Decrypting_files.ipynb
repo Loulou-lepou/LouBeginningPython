{
  "nbformat": 4,
  "nbformat_minor": 0,
  "metadata": {
    "colab": {
      "name": "Encrypting_Decrypting files.ipynb",
      "provenance": [],
      "collapsed_sections": [
        "eyMlBaUe4w9l"
      ],
      "authorship_tag": "ABX9TyMWkBm81rYP/Ypq9REqjTZd",
      "include_colab_link": true
    },
    "kernelspec": {
      "name": "python3",
      "display_name": "Python 3"
    },
    "language_info": {
      "name": "python"
    }
  },
  "cells": [
    {
      "cell_type": "markdown",
      "metadata": {
        "id": "view-in-github",
        "colab_type": "text"
      },
      "source": [
        "<a href=\"https://colab.research.google.com/github/Loulou-lepou/LouBeginningPython/blob/master/Encrypting_Decrypting_files.ipynb\" target=\"_parent\"><img src=\"https://colab.research.google.com/assets/colab-badge.svg\" alt=\"Open In Colab\"/></a>"
      ]
    },
    {
      "cell_type": "markdown",
      "source": [
        "# URL Encoding\n",
        " \n"
      ],
      "metadata": {
        "id": "eyMlBaUe4w9l"
      }
    },
    {
      "cell_type": "markdown",
      "source": [
        "URL = Uniform Resource Locator \n",
        "\n",
        " **https<font color='red'>:</font><font color='blue'>//</font>hyperskill.org<br>**\n",
        "<br>\n",
        "URL encoding => [replaces special characters (non-ASCII) with their encoded alternatives. ](https://www.thoughtco.com/encoding-urls-3467463)\n",
        "\n",
        "[<font color='MediumSeaGreen'>special character $↦$  % + 2 hexadecimal digits</font> ](https://www.w3schools.com/tags/ref_urlencode.asp)\n",
        "<br>\n",
        "<font color='red'>:</font>   separate protocol from address $↦$ <font color='red'>%3A</font> <br>\n",
        "<font color='blue'>/</font>   separate domain or directories $↦$ <font color='blue'>%2F</font>\n",
        "<br>\n",
        "<br>\n",
        " *(ASCII characters)*\n",
        "ASCII = \"American Standard Code for Information Interchange\"\n",
        "<br>\n",
        "<br>\n",
        "\n",
        " **https<font color='red'>%3A</font><font color='blue'>%2F</font><font color='blue'>%2F</font>hyperskill.org**\n",
        "<br>\n",
        "<br>\n",
        "\n",
        " URL encoding in Python using urllib.parse.quote_plus()\n"
      ],
      "metadata": {
        "id": "fOq9go4pXl6Q"
      }
    },
    {
      "cell_type": "code",
      "source": [
        "import urllib\n",
        "\n",
        "\n",
        "url_ = \"https://www.pythontect.com/about/?name=ismail&pass=123\"\n",
        "\n",
        "encoded_url = urllib.parse.quote_plus(url_)\n",
        "\n",
        "print(encoded_url)\n"
      ],
      "metadata": {
        "colab": {
          "base_uri": "https://localhost:8080/"
        },
        "id": "7MmI-aHm-G4n",
        "outputId": "e71987a1-a652-4f50-fc92-4b083e737b7b"
      },
      "execution_count": null,
      "outputs": [
        {
          "output_type": "stream",
          "name": "stdout",
          "text": [
            "https%3A%2F%2Fwww.pythontect.com%2Fabout%2F%3Fname%3Dismail%26pass%3D123\n"
          ]
        }
      ]
    },
    {
      "cell_type": "code",
      "source": [
        "import urllib\n",
        "\n",
        "\n",
        "my_url = \"https://www.pythontect.com/about/?name=ismail baydan&pass=123\"\n",
        "\n",
        "encoded_url = urllib.parse.quote_plus(my_url,safe=\" \")\n",
        "\n",
        "print(encoded_url)"
      ],
      "metadata": {
        "colab": {
          "base_uri": "https://localhost:8080/"
        },
        "id": "oRZLzW0U-_mA",
        "outputId": "aeec66ac-db9a-4ea9-eb4a-c5b1a40a4ea4"
      },
      "execution_count": null,
      "outputs": [
        {
          "output_type": "stream",
          "name": "stdout",
          "text": [
            "https%3A%2F%2Fwww.pythontect.com%2Fabout%2F%3Fname%3Dismail+baydan%26pass%3D123\n"
          ]
        }
      ]
    },
    {
      "cell_type": "markdown",
      "source": [
        "# Encoding & decoding base64 strings\n",
        "\n",
        "<font color='red'>Base64 -> encoding email attachment for transmission.</font>\n"
      ],
      "metadata": {
        "id": "m1yvfeZEFUsl"
      }
    },
    {
      "cell_type": "markdown",
      "source": [
        "## Text content\n",
        "Man\n",
        "## ASCII\n",
        "77, 97, 110\n",
        "## Bit pattern (3 bytes - 24 bit binary data)\n",
        "01001101,01100001,01101110\n",
        "\n",
        "## Index  (four 6 bit Base64 digits) \n",
        "(6 bits $↦$ maximum of 64 different binary values) \n",
        "19, 22, 5, 46\n",
        "\n",
        "## Base64 - encoded\n",
        "T,W,F,u\n",
        "\n",
        "\n"
      ],
      "metadata": {
        "id": "oRMayfENFfl2"
      }
    },
    {
      "cell_type": "code",
      "source": [
        "# find the ASCII value of the given character using the built-in function ord()\n",
        "\n",
        "char_ = 'M'\n",
        "print(\"The ASCII value of '\" + char_ + \"' is\", ord(char_))\n",
        "\n",
        "# get characters from their corresponding ASCII values using the built-in function chr()\n",
        "\n",
        "ascii_value = 97\n",
        "print(\"characters from the corresponding ASCII value\", ascii_value, \"is\", chr(ascii_value))\n",
        "\n",
        "# convert text content to ASCII \n",
        "# https://www.goodreads.com/quotes/7753665-desire-to-know-why-and-how-curiosity-such-as-is\n",
        "# Man is distinguished, not only by his reason, but ...\n",
        "input_str = input()\n",
        "ascii_str = \",\".join([str(ord(_)) for _ in input_str])\n",
        "print(ascii_str)\n"
      ],
      "metadata": {
        "colab": {
          "base_uri": "https://localhost:8080/"
        },
        "id": "_iGldPfUFe0f",
        "outputId": "69eaac2a-f44b-4e50-c68e-400b2a568693"
      },
      "execution_count": null,
      "outputs": [
        {
          "output_type": "stream",
          "name": "stdout",
          "text": [
            "The ASCII value of 'M' is 77\n",
            "characters from the corresponding ASCII value 97 is a\n",
            "Man is distinguished, not only by his reason, but ...\n",
            "77,97,110,32,105,115,32,100,105,115,116,105,110,103,117,105,115,104,101,100,44,32,110,111,116,32,111,110,108,121,32,98,121,32,104,105,115,32,114,101,97,115,111,110,44,32,98,117,116,32,46,46,46\n"
          ]
        }
      ]
    },
    {
      "cell_type": "code",
      "source": [
        "# decimal to binary\n",
        "decimal_num = 97\n",
        "print(\"{0:b}\".format(decimal_num))\n",
        "print(format(decimal_num, '08b'))\n",
        "print(\"{:08b}\".format(decimal_num))\n",
        "\n",
        "# bit pattern of ascii_str\n",
        "bit_pattern_list = [\"{:08b}\".format(ord(_)) for _ in input_str]\n",
        "print(bit_pattern_list)\n",
        "print(\",\".join(bit_pattern_list))"
      ],
      "metadata": {
        "id": "ejvKw5tfdd0F",
        "colab": {
          "base_uri": "https://localhost:8080/"
        },
        "outputId": "38fedf6b-7dd6-4fa7-8643-0a20d550bec9"
      },
      "execution_count": null,
      "outputs": [
        {
          "output_type": "stream",
          "name": "stdout",
          "text": [
            "1100001\n",
            "01100001\n",
            "01100001\n",
            "['01001101', '01100001', '01101110', '00100000', '01101001', '01110011', '00100000', '01100100', '01101001', '01110011', '01110100', '01101001', '01101110', '01100111', '01110101', '01101001', '01110011', '01101000', '01100101', '01100100', '00101100', '00100000', '01101110', '01101111', '01110100', '00100000', '01101111', '01101110', '01101100', '01111001', '00100000', '01100010', '01111001', '00100000', '01101000', '01101001', '01110011', '00100000', '01110010', '01100101', '01100001', '01110011', '01101111', '01101110', '00101100', '00100000', '01100010', '01110101', '01110100', '00100000', '00101110', '00101110', '00101110']\n",
            "01001101,01100001,01101110,00100000,01101001,01110011,00100000,01100100,01101001,01110011,01110100,01101001,01101110,01100111,01110101,01101001,01110011,01101000,01100101,01100100,00101100,00100000,01101110,01101111,01110100,00100000,01101111,01101110,01101100,01111001,00100000,01100010,01111001,00100000,01101000,01101001,01110011,00100000,01110010,01100101,01100001,01110011,01101111,01101110,00101100,00100000,01100010,01110101,01110100,00100000,00101110,00101110,00101110\n"
          ]
        }
      ]
    },
    {
      "cell_type": "code",
      "source": [
        "# binary to decimal using int(str(binary_num), 2) function\n",
        "# TypeError: int() can't convert non-string with explicit base\n",
        "binary_num = 1100001\n",
        "decimal_ = int(str(binary_num), 2)\n",
        "print(decimal_)\n",
        "\n",
        "# index (four 6 bit Base64 digits)\n",
        "bit_pattern = \"\".join(bit_pattern_list)\n",
        "print(bit_pattern)\n",
        "\n",
        "binary_length = len(bit_pattern)\n",
        "index_list = [int(bit_pattern[_: _ + 6], 2) for _ in range(0, binary_length, 6)]\n",
        "print(index_list)\n"
      ],
      "metadata": {
        "colab": {
          "base_uri": "https://localhost:8080/"
        },
        "id": "ySROCrXsjP4X",
        "outputId": "e342ec5b-2232-442e-dd22-3861ba8d4eeb"
      },
      "execution_count": null,
      "outputs": [
        {
          "output_type": "stream",
          "name": "stdout",
          "text": [
            "97\n",
            "0100110101100001011011100010000001101001011100110010000001100100011010010111001101110100011010010110111001100111011101010110100101110011011010000110010101100100001011000010000001101110011011110111010000100000011011110110111001101100011110010010000001100010011110010010000001101000011010010111001100100000011100100110010101100001011100110110111101101110001011000010000001100010011101010111010000100000001011100010111000101110\n",
            "[19, 22, 5, 46, 8, 6, 37, 51, 8, 6, 17, 41, 28, 55, 17, 41, 27, 38, 29, 53, 26, 23, 13, 40, 25, 22, 16, 44, 8, 6, 57, 47, 29, 2, 1, 47, 27, 38, 49, 57, 8, 6, 9, 57, 8, 6, 33, 41, 28, 50, 1, 50, 25, 22, 5, 51, 27, 54, 56, 44, 8, 6, 9, 53, 29, 2, 0, 46, 11, 34, 14]\n"
          ]
        }
      ]
    },
    {
      "cell_type": "code",
      "source": [
        "# using the base64 table \n",
        "# https://en.wikipedia.org/wiki/Base64 \n",
        "# 26 uppercase letters 'A' -> 'Z'\n",
        "# 26 lowercase letters 'a' -> 'z'\n",
        "# 10 numbers '0' -> '9'\n",
        "# + , / \n",
        "#  = -> pad data\n",
        "\n",
        "# Each Base64 character represents 6 bits of data. \n",
        "\n",
        "translate_dict = {\n",
        "    'A': 0, 'Q': 16, 'g': 32, 'w': 48,\n",
        "    'B': 1, 'R': 17, 'h': 33, 'x': 49,\n",
        "    'C': 2, 'S': 18, 'i': 34, 'y': 50,\n",
        "    'D': 3, 'T': 19, 'j': 35, 'z': 51,\n",
        "    'E': 4, 'U': 20, 'k': 36, '0': 52,\n",
        "    'F': 5, 'V': 21, 'l': 37, '1': 53,\n",
        "    'G': 6, 'W': 22, 'm': 38, '2': 54,\n",
        "    'H': 7, 'X': 23, 'n': 39, '3': 55,\n",
        "    'I': 8, 'Y': 24, 'o': 40, '4': 56,\n",
        "    'J': 9, 'Z': 25, 'p': 41, '5': 57,\n",
        "    'K': 10, 'a': 26, 'q': 42, '6': 58,\n",
        "    'L': 11, 'b': 27, 'r': 43, '7': 59,\n",
        "    'M': 12, 'c': 28, 's': 44, '8': 60,\n",
        "    'N': 13, 'd': 29, 't': 45, '9': 61,\n",
        "    'O': 14, 'e': 30, 'u': 46, '+': 62,\n",
        "    'P': 15, 'f': 31, 'v': 47, '/': 63\n",
        "}\n",
        "\n",
        "print([translate_dict[_] for _ in 'TWFu'])\n",
        "\n",
        "base64_encoded = []\n",
        "for num in index_list:\n",
        "    for key, value in translate_dict.items():\n",
        "        if num == value:\n",
        "            base64_encoded.append(key)\n",
        "print(base64_encoded)\n",
        "\n",
        "base64_encoded_2 = [key for num in index_list for key, value in translate_dict.items() if num == value]\n",
        "print(base64_encoded_2)"
      ],
      "metadata": {
        "colab": {
          "base_uri": "https://localhost:8080/"
        },
        "id": "TWcq1cu0oyOu",
        "outputId": "f67fa4ed-9591-43dd-8e23-67349f35434a"
      },
      "execution_count": null,
      "outputs": [
        {
          "output_type": "stream",
          "name": "stdout",
          "text": [
            "[19, 22, 5, 46]\n",
            "['T', 'W', 'F', 'u', 'I', 'G', 'l', 'z', 'I', 'G', 'R', 'p', 'c', '3', 'R', 'p', 'b', 'm', 'd', '1', 'a', 'X', 'N', 'o', 'Z', 'W', 'Q', 's', 'I', 'G', '5', 'v', 'd', 'C', 'B', 'v', 'b', 'm', 'x', '5', 'I', 'G', 'J', '5', 'I', 'G', 'h', 'p', 'c', 'y', 'B', 'y', 'Z', 'W', 'F', 'z', 'b', '2', '4', 's', 'I', 'G', 'J', '1', 'd', 'C', 'A', 'u', 'L', 'i', 'O']\n",
            "['T', 'W', 'F', 'u', 'I', 'G', 'l', 'z', 'I', 'G', 'R', 'p', 'c', '3', 'R', 'p', 'b', 'm', 'd', '1', 'a', 'X', 'N', 'o', 'Z', 'W', 'Q', 's', 'I', 'G', '5', 'v', 'd', 'C', 'B', 'v', 'b', 'm', 'x', '5', 'I', 'G', 'J', '5', 'I', 'G', 'h', 'p', 'c', 'y', 'B', 'y', 'Z', 'W', 'F', 'z', 'b', '2', '4', 's', 'I', 'G', 'J', '1', 'd', 'C', 'A', 'u', 'L', 'i', 'O']\n"
          ]
        }
      ]
    },
    {
      "cell_type": "code",
      "source": [
        "# base64 encoded\n",
        "\n",
        "import base64\n",
        "\n",
        "  \n",
        "sample_string = input()\n",
        "sample_string_bytes = sample_string.encode(\"ascii\")\n",
        "  \n",
        "base64_bytes = base64.b64encode(sample_string_bytes)\n",
        "base64_string = base64_bytes.decode(\"ascii\")\n",
        "\n",
        "#  = -> pad data\n",
        "print(f\"Base64 Encoded string: {base64_string}\")"
      ],
      "metadata": {
        "id": "pgRpe2w0nilX",
        "colab": {
          "base_uri": "https://localhost:8080/"
        },
        "outputId": "8f4afc57-6c13-41d3-de6c-4777e20d8754"
      },
      "execution_count": null,
      "outputs": [
        {
          "output_type": "stream",
          "name": "stdout",
          "text": [
            "Man is distinguished, not only by his reason, but ...\n",
            "Base64 Encoded string: TWFuIGlzIGRpc3Rpbmd1aXNoZWQsIG5vdCBvbmx5IGJ5IGhpcyByZWFzb24sIGJ1dCAuLi4=\n"
          ]
        }
      ]
    },
    {
      "cell_type": "code",
      "source": [
        "# decode strings\n",
        "\n",
        "import base64\n",
        "  \n",
        "\n",
        "base64_string = input()\n",
        "base64_bytes = base64_string.encode(\"ascii\")\n",
        "  \n",
        "sample_string_bytes = base64.b64decode(base64_bytes)\n",
        "sample_string = sample_string_bytes.decode(\"ascii\")\n",
        "\n",
        "print(f\"Decoded string: {sample_string}\")\n",
        "  "
      ],
      "metadata": {
        "id": "wb_xeDND3USq",
        "colab": {
          "base_uri": "https://localhost:8080/"
        },
        "outputId": "fbc13c11-9add-4e90-c8e9-623c6995ed13"
      },
      "execution_count": null,
      "outputs": [
        {
          "output_type": "stream",
          "name": "stdout",
          "text": [
            "TWFuIGlzIGRpc3Rpbmd1aXNoZWQsIG5vdCBvbmx5IGJ5IGhpcyByZWFzb24sIGJ1dCAuLi4=\n",
            "Decoded string: Man is distinguished, not only by his reason, but ...\n"
          ]
        }
      ]
    },
    {
      "cell_type": "markdown",
      "source": [
        "# Encoding & decoding an image using Base64\n",
        "\n",
        "*This section is better run with Pycharm IDE*\n",
        "\n",
        "\n",
        "[The reindeer image](https://cms-assets.tutsplus.com/cdn-cgi/image/width=1386/uploads%2Fusers%2F1181%2Fposts%2F25588%2Fimage-1451298364838.gif)\n"
      ],
      "metadata": {
        "id": "HGUdfb6BlA8C"
      }
    },
    {
      "cell_type": "markdown",
      "source": [
        "![reindeer.png](data:image/png;base64,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)"
      ],
      "metadata": {
        "id": "wKqPbdNclSfA"
      }
    },
    {
      "cell_type": "code",
      "source": [
        "# upload an image to google colab\n",
        "from google.colab import files\n",
        "\n",
        "uploaded = files.upload()"
      ],
      "metadata": {
        "colab": {
          "resources": {
            "http://localhost:8080/nbextensions/google.colab/files.js": {
              "data": "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",
              "ok": true,
              "headers": [
                [
                  "content-type",
                  "application/javascript"
                ]
              ],
              "status": 200,
              "status_text": ""
            }
          },
          "base_uri": "https://localhost:8080/",
          "height": 73
        },
        "id": "_cMHfbJCLq7u",
        "outputId": "70e1007c-7f81-4b0d-d293-b145abc09b61"
      },
      "execution_count": 2,
      "outputs": [
        {
          "output_type": "display_data",
          "data": {
            "text/html": [
              "\n",
              "     <input type=\"file\" id=\"files-bf3ec810-4a69-4dca-a3b6-28651299cd37\" name=\"files[]\" multiple disabled\n",
              "        style=\"border:none\" />\n",
              "     <output id=\"result-bf3ec810-4a69-4dca-a3b6-28651299cd37\">\n",
              "      Upload widget is only available when the cell has been executed in the\n",
              "      current browser session. Please rerun this cell to enable.\n",
              "      </output>\n",
              "      <script src=\"/nbextensions/google.colab/files.js\"></script> "
            ],
            "text/plain": [
              "<IPython.core.display.HTML object>"
            ]
          },
          "metadata": {}
        },
        {
          "output_type": "stream",
          "name": "stdout",
          "text": [
            "Saving reindeer.gif to reindeer.gif\n"
          ]
        }
      ]
    },
    {
      "cell_type": "code",
      "source": [
        "import base64\n",
        "\n",
        "\n",
        "#  encoding the image reindeer.gif\n",
        "# 1. open the file\n",
        "# 2. read its content\n",
        "# 3. pass the path to the encode function base64.b64encode()\n",
        "# 4. use base64_bytes.decode('utf-8') to print base64_str w/o prefix b'\n",
        "\n",
        "with open(\"reindeer.gif\", \"rb\") as image_file:\n",
        "    my_path = image_file.read()\n",
        "    base64_bytes = base64.b64encode(my_path)\n",
        "print(base64_bytes.decode('utf-8'))\n"
      ],
      "metadata": {
        "colab": {
          "base_uri": "https://localhost:8080/"
        },
        "id": "Q6KnJiddLiJl",
        "outputId": "17c7525e-285d-473b-92d6-24fd2dc93178"
      },
      "execution_count": 3,
      "outputs": [
        {
          "output_type": "stream",
          "name": "stdout",
          "text": [
            "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\n"
          ]
        },
        {
          "output_type": "execute_result",
          "data": {
            "text/plain": [
              "5093"
            ]
          },
          "metadata": {},
          "execution_count": 3
        }
      ]
    },
    {
      "cell_type": "code",
      "source": [
        "# decoding an image\n",
        "image_64_decode = base64.b64decode(base64_bytes)\n",
        "image_result = open('deer_decode.gif', 'wb')   # create a writable image and write the decoding result\n",
        "image_result.write(image_64_decode)"
      ],
      "metadata": {
        "colab": {
          "base_uri": "https://localhost:8080/"
        },
        "id": "LlJ1cqtqMdnR",
        "outputId": "c9742601-4690-4346-9b40-e50540df628b"
      },
      "execution_count": 4,
      "outputs": [
        {
          "output_type": "execute_result",
          "data": {
            "text/plain": [
              "5093"
            ]
          },
          "metadata": {},
          "execution_count": 4
        }
      ]
    }
  ]
}